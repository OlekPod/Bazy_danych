{
 "cells": [
  {
   "cell_type": "code",
   "execution_count": 1,
   "id": "0135ab6b",
   "metadata": {},
   "outputs": [],
   "source": [
    "# Wczytanie danych startowych\n",
    "import pandas as pd\n",
    "original_data = pd.read_csv(\"/home/aleksander/Documents/Zajecia_VII/Bazy_danych/laby/Lab2/Original_Data/earthquake_data.csv\")"
   ]
  },
  {
   "cell_type": "code",
   "execution_count": 2,
   "id": "35964f8b",
   "metadata": {},
   "outputs": [],
   "source": [
    "# Stworzenie nowego dataFrame\n",
    "data_with_nan = original_data[['What is your gender?', \\\n",
    "                               'Do you think the \"Big One\" will occur in your lifetime?', \\\n",
    "                               \"Have you or anyone in your household taken any precautions for an earthquake (packed an earthquake survival kit, prepared an evacuation plan, etc.)?\"]]"
   ]
  },
  {
   "cell_type": "code",
   "execution_count": 3,
   "id": "ee77ae6c",
   "metadata": {},
   "outputs": [],
   "source": [
    "# Usunęcie błędnych rekordów\n",
    "data_with_nan = data_with_nan.dropna()\n",
    "data_final = data_with_nan.reset_index(drop=True)"
   ]
  },
  {
   "cell_type": "code",
   "execution_count": 4,
   "id": "384f8946",
   "metadata": {},
   "outputs": [],
   "source": [
    "# Zapisanie przetworzonych danych\n",
    "data_final.to_csv(r'/home/aleksander/Documents/Zajecia_VII/Bazy_danych/laby/Lab2/Analysis_Data/data_final', index = False, header=True)"
   ]
  },
  {
   "cell_type": "code",
   "execution_count": null,
   "id": "04010825",
   "metadata": {},
   "outputs": [],
   "source": []
  }
 ],
 "metadata": {
  "kernelspec": {
   "display_name": "Python 3 (ipykernel)",
   "language": "python",
   "name": "python3"
  },
  "language_info": {
   "codemirror_mode": {
    "name": "ipython",
    "version": 3
   },
   "file_extension": ".py",
   "mimetype": "text/x-python",
   "name": "python",
   "nbconvert_exporter": "python",
   "pygments_lexer": "ipython3",
   "version": "3.8.8"
  }
 },
 "nbformat": 4,
 "nbformat_minor": 5
}
